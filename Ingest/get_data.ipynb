{
 "cells": [
  {
   "cell_type": "code",
   "execution_count": 0,
   "metadata": {
    "application/vnd.databricks.v1+cell": {
     "cellMetadata": {
      "byteLimit": 2048000,
      "rowLimit": 10000
     },
     "inputWidgets": {},
     "nuid": "f811336e-5e0f-4d04-a389-9a80993c3e59",
     "showTitle": false,
     "tableResultSettingsMap": {},
     "title": ""
    }
   },
   "outputs": [],
   "source": [
    "%pip install yfinance\n",
    "%pip install tqdm"
   ]
  },
  {
   "cell_type": "markdown",
   "metadata": {
    "application/vnd.databricks.v1+cell": {
     "cellMetadata": {
      "byteLimit": 2048000,
      "rowLimit": 10000
     },
     "inputWidgets": {},
     "nuid": "d757766f-16ce-4d32-af02-1f028aa22bb4",
     "showTitle": false,
     "tableResultSettingsMap": {},
     "title": ""
    }
   },
   "source": [
    "Getting all Nifty 50 Stock codes"
   ]
  },
  {
   "cell_type": "code",
   "execution_count": 0,
   "metadata": {
    "application/vnd.databricks.v1+cell": {
     "cellMetadata": {
      "byteLimit": 2048000,
      "rowLimit": 10000
     },
     "inputWidgets": {},
     "nuid": "44a8b288-0fd0-4ebd-9bd5-3d6406a36a95",
     "showTitle": false,
     "tableResultSettingsMap": {},
     "title": ""
    }
   },
   "outputs": [],
   "source": [
    "nifty50codes = ['WIPRO','BAJFINANCE','TATASTEEL','HCLTECH','INDUSINDBK','JSWSTEEL','NESTLEIND','ONGC','COALINDIA','ICICIBANK','INFY','HINDALCO','M&M','BAJAJ-AUTO','BAJAJFINSV','ULTRACEMCO','CIPLA','RELIANCE','LT','TATAMOTORS','NTPC','DRREDDY','MARUTI','ITC','EICHERMOT','SUNPHARMA','JIOFIN','APOLLOHOSP','TCS','BHARTIARTL','TATACONSUM','SBIN','ADANIPORTS','ETERNAL','ASIANPAINT','HINDUNILVR','ADANIENT','SBILIFE','TECHM','POWERGRID','TRENT','HEROMOTOCO','TITAN','GRASIM','HDFCBANK','KOTAKBANK','HDFCLIFE','BEL','SHRIRAMFIN','AXISBANK']"
   ]
  },
  {
   "cell_type": "markdown",
   "metadata": {
    "application/vnd.databricks.v1+cell": {
     "cellMetadata": {
      "byteLimit": 2048000,
      "rowLimit": 10000
     },
     "inputWidgets": {},
     "nuid": "62e3c3d0-f90b-49c3-b6bc-66f37387924c",
     "showTitle": false,
     "tableResultSettingsMap": {},
     "title": ""
    }
   },
   "source": [
    "Adding .ns ticker to the names"
   ]
  },
  {
   "cell_type": "code",
   "execution_count": 0,
   "metadata": {
    "application/vnd.databricks.v1+cell": {
     "cellMetadata": {
      "byteLimit": 2048000,
      "rowLimit": 10000
     },
     "inputWidgets": {},
     "nuid": "4cbd493f-ad5d-4c6e-b15c-557d32af34a7",
     "showTitle": false,
     "tableResultSettingsMap": {},
     "title": ""
    }
   },
   "outputs": [],
   "source": [
    "nifty50codes = [x+\".NS\" for x in nifty50codes]\n",
    "print(nifty50codes)"
   ]
  },
  {
   "cell_type": "markdown",
   "metadata": {
    "application/vnd.databricks.v1+cell": {
     "cellMetadata": {
      "byteLimit": 2048000,
      "rowLimit": 10000
     },
     "inputWidgets": {},
     "nuid": "40906b02-72de-4b07-9dbc-f91c3e9b643b",
     "showTitle": false,
     "tableResultSettingsMap": {},
     "title": ""
    }
   },
   "source": [
    "Fetching Stock information and saving to S3"
   ]
  },
  {
   "cell_type": "code",
   "execution_count": 0,
   "metadata": {
    "application/vnd.databricks.v1+cell": {
     "cellMetadata": {
      "byteLimit": 2048000,
      "rowLimit": 10000
     },
     "inputWidgets": {},
     "nuid": "a0708d4c-cdcf-43eb-9d6c-267560530c43",
     "showTitle": false,
     "tableResultSettingsMap": {},
     "title": ""
    }
   },
   "outputs": [],
   "source": [
    "import yfinance as yf\n",
    "import pandas as pd\n",
    "from datetime import datetime,timedelta\n",
    "import os\n",
    "from pyspark.sql.functions import lit\n",
    "from tqdm import tqdm\n",
    "# List of Nifty 50 stocks or your custom list\n",
    "tickers = nifty50codes\n",
    "\n",
    "# Output directory\n",
    "today = datetime.today().strftime(\"%Y-%m-%d\")\n",
    "lastday = (datetime.today()+timedelta(days=1)).strftime(\"%Y-%m-%d\")\n",
    "output_dir = f\"s3://stock-analysis-yk/stockdatadelta\"\n",
    "os.makedirs(output_dir, exist_ok=True)\n",
    "\n",
    "def fetch_stock_data(ticker, start=today, end=None):\n",
    "    print(f\"Fetching data for {ticker}\")\n",
    "    stock = yf.Ticker(ticker)\n",
    "    df = stock.history(start=start, end=end)\n",
    "    df[\"Ticker\"] = ticker\n",
    "    df = df.rename(columns={'Stock Splits':'Stock_splits'})\n",
    "    df.reset_index(inplace=True)\n",
    "    \n",
    "    return df\n",
    "\n",
    "# Fetch and save each ticker's data\n",
    "for ticker in tqdm(tickers):\n",
    "    df = spark.createDataFrame(fetch_stock_data(ticker))\n",
    "    #df.show()\n",
    "    \n",
    "    #print(\"here\")\n",
    "    df.write.format(\"delta\").mode(\"append\").save(f\"{output_dir}/{ticker.replace('.NS','')}\", header = \"True\")\n",
    "    #print(\"done\")\n",
    "print(f\"Saved stock data for {len(tickers)} tickers on {today}\")"
   ]
  },
  {
   "cell_type": "markdown",
   "metadata": {
    "application/vnd.databricks.v1+cell": {
     "cellMetadata": {
      "byteLimit": 2048000,
      "rowLimit": 10000
     },
     "inputWidgets": {},
     "nuid": "0a8dcd16-3fd5-4c61-9ab2-7a784861955c",
     "showTitle": false,
     "tableResultSettingsMap": {},
     "title": ""
    }
   },
   "source": [
    "Fetching Stock news for sentiment analysis of stocks"
   ]
  },
  {
   "cell_type": "code",
   "execution_count": 0,
   "metadata": {
    "application/vnd.databricks.v1+cell": {
     "cellMetadata": {
      "byteLimit": 2048000,
      "rowLimit": 10000
     },
     "inputWidgets": {},
     "nuid": "234998f4-8603-4f5c-a3d3-e63d1280b408",
     "showTitle": false,
     "tableResultSettingsMap": {},
     "title": ""
    }
   },
   "outputs": [],
   "source": [
    "%pip install vaderSentiment\n",
    "%pip install lxml"
   ]
  },
  {
   "cell_type": "code",
   "execution_count": 0,
   "metadata": {
    "application/vnd.databricks.v1+cell": {
     "cellMetadata": {
      "byteLimit": 2048000,
      "rowLimit": 10000
     },
     "inputWidgets": {},
     "nuid": "e99101ef-7ad9-4f56-93ec-e608bcab9778",
     "showTitle": false,
     "tableResultSettingsMap": {},
     "title": ""
    }
   },
   "outputs": [],
   "source": [
    "\n",
    "import requests\n",
    "from bs4 import BeautifulSoup\n",
    "from vaderSentiment.vaderSentiment import SentimentIntensityAnalyzer\n",
    "import pandas as pd\n",
    "from datetime import datetime\n",
    "import os\n",
    "import lxml\n",
    "from tqdm import tqdm\n",
    "# News feed URL (modify keywords as needed)\n",
    "RSS_URL = \"https://news.google.com/rss/search?q=stock+market+india&hl=en-IN&gl=IN&ceid=IN:en\"\n",
    "\n",
    "# Output\n",
    "today = datetime.today().strftime(\"%Y-%m-%d\")\n",
    "output_dir = f\"s3://stock-analysis-yk/SentimentData\"\n",
    "os.makedirs(output_dir, exist_ok=True)\n",
    "\n",
    "analyzer = SentimentIntensityAnalyzer()\n",
    "\n",
    "def get_google_news_headlines(symbol):\n",
    "    url = f\"https://news.google.com/rss/search?q={symbol}+stock+india&hl=en-IN&gl=IN&ceid=IN:en\"\n",
    "    response = requests.get(url)\n",
    "    soup = BeautifulSoup(response.content, features=\"xml\")\n",
    "    items = soup.findAll('item')\n",
    "    headlines = [item.title.text for item in items]\n",
    "    return headlines\n",
    "\n",
    "def analyze_sentiment(text_list):\n",
    "    results = []\n",
    "    for text in text_list:\n",
    "        score = analyzer.polarity_scores(text)\n",
    "        results.append({\n",
    "            \"text\": text,\n",
    "            \"compound\": score[\"compound\"],\n",
    "            \"pos\": score[\"pos\"],\n",
    "            \"neg\": score[\"neg\"],\n",
    "            \"neu\": score[\"neu\"],\n",
    "        })\n",
    "    return pd.DataFrame(results)\n",
    "\n",
    "def get_sentiment_score(symbol):\n",
    "    headlines = get_google_news_headlines(symbol)\n",
    "    df = analyze_sentiment(headlines)\n",
    "    sentiment_summary = {\n",
    "        \"Ticker\": symbol,\n",
    "        \"Date\": datetime.today().strftime(\"%Y-%m-%d\"),\n",
    "        \"Sentiment_Score\": round(df[\"compound\"].mean(), 3),\n",
    "        \"Positive\": round(df[\"pos\"].mean(), 3),\n",
    "        \"Negative\": round(df[\"neg\"].mean(), 3),\n",
    "        \"Source\": \"Google\"\n",
    "    }\n",
    "    return pd.DataFrame([sentiment_summary])\n",
    "df = pd.DataFrame()\n",
    "# Example usage\n",
    "for ticker in tqdm(nifty50codes):\n",
    "    df = pd.concat([df,get_sentiment_score(ticker)])\n",
    "    #print(\"here\")\n",
    "    #df.write.mode(\"overwrite\").csv(f\"{output_dir}/{ticker.replace('.NS','')}\", header = \"True\")\n",
    "sparkdf = spark.createDataFrame(df)\n",
    "sparkdf.write.format(\"delta\").mode(\"overwrite\").save(f\"{output_dir}\", header = \"True\")"
   ]
  },
  {
   "cell_type": "code",
   "execution_count": 0,
   "metadata": {
    "application/vnd.databricks.v1+cell": {
     "cellMetadata": {
      "byteLimit": 2048000,
      "rowLimit": 10000
     },
     "inputWidgets": {},
     "nuid": "0221851e-6348-49c3-bd3b-ef7d3097c1e3",
     "showTitle": false,
     "tableResultSettingsMap": {},
     "title": ""
    }
   },
   "outputs": [],
   "source": [
    "print(df)"
   ]
  }
 ],
 "metadata": {
  "application/vnd.databricks.v1+notebook": {
   "computePreferences": null,
   "dashboards": [],
   "environmentMetadata": {
    "base_environment": "",
    "environment_version": "2"
   },
   "inputWidgetPreferences": null,
   "language": "python",
   "notebookMetadata": {
    "mostRecentlyExecutedCommandWithImplicitDF": {
     "commandId": 7861478409662876,
     "dataframes": [
      "_sqldf"
     ]
    },
    "pythonIndentUnit": 4
   },
   "notebookName": "get_data",
   "widgets": {}
  },
  "language_info": {
   "name": "python"
  }
 },
 "nbformat": 4,
 "nbformat_minor": 0
}
