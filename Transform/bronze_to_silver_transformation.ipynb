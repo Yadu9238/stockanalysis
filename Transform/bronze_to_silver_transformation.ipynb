{
 "cells": [
  {
   "cell_type": "code",
   "execution_count": 0,
   "metadata": {
    "application/vnd.databricks.v1+cell": {
     "cellMetadata": {
      "byteLimit": 2048000,
      "rowLimit": 10000
     },
     "inputWidgets": {},
     "nuid": "88ede0c3-ca29-464e-99ce-30fd83bf98ee",
     "showTitle": false,
     "tableResultSettingsMap": {},
     "title": ""
    }
   },
   "outputs": [],
   "source": [
    "from pyspark.sql import SparkSession\n",
    "from pyspark.sql.functions import col, avg, stddev, lag, round, to_date,lit\n",
    "from pyspark.sql.window import Window\n",
    "from datetime import datetime"
   ]
  },
  {
   "cell_type": "code",
   "execution_count": 0,
   "metadata": {
    "application/vnd.databricks.v1+cell": {
     "cellMetadata": {
      "byteLimit": 2048000,
      "rowLimit": 10000
     },
     "inputWidgets": {},
     "nuid": "660f6096-6a38-4c84-9cc2-dde264b8c947",
     "showTitle": false,
     "tableResultSettingsMap": {},
     "title": ""
    }
   },
   "outputs": [],
   "source": [
    "\n",
    "# 2. Load raw stock data\n",
    "\n",
    "raw_path = \"s3://stock-analysis-yk/stockdatadelta/\"\n",
    "# List all subfolders (each is one stock’s Delta table)\n",
    "folders = [f.path for f in dbutils.fs.ls(raw_path) if f.isDir()]\n",
    "# Initialize combined_df as None\n",
    "df_raw = None\n",
    "\n",
    "# Loop through each stock folder and union\n",
    "for folder in folders:\n",
    "    stock_name = folder.rstrip('/').split('/')[-1]\n",
    "    df = spark.read.format(\"delta\").load(folder).withColumn(\"ticker\", lit(stock_name))\n",
    "    \n",
    "    if df_raw is None:\n",
    "        df_raw = df\n",
    "    else:\n",
    "        df_raw = df_raw.unionByName(df)\n",
    "\n",
    "# Now combined_df contains all the stock data\n",
    "\n"
   ]
  },
  {
   "cell_type": "code",
   "execution_count": 0,
   "metadata": {
    "application/vnd.databricks.v1+cell": {
     "cellMetadata": {
      "byteLimit": 2048000,
      "rowLimit": 10000
     },
     "inputWidgets": {},
     "nuid": "5b5b8692-1118-47c6-8a94-1467f4bd8726",
     "showTitle": false,
     "tableResultSettingsMap": {
      "0": {
       "dataGridStateBlob": "{\"version\":1,\"tableState\":{\"columnPinning\":{\"left\":[\"#row_number#\"],\"right\":[]},\"columnSizing\":{},\"columnVisibility\":{}},\"settings\":{\"columns\":{}},\"syncTimestamp\":1753254535792}",
       "filterBlob": null,
       "queryPlanFiltersBlob": null,
       "tableResultIndex": 0
      }
     },
     "title": ""
    }
   },
   "outputs": [],
   "source": [
    "display(df_raw)"
   ]
  },
  {
   "cell_type": "code",
   "execution_count": 0,
   "metadata": {
    "application/vnd.databricks.v1+cell": {
     "cellMetadata": {
      "byteLimit": 2048000,
      "rowLimit": 10000
     },
     "inputWidgets": {},
     "nuid": "fa0404fb-294b-463b-8279-9f69d9889a58",
     "showTitle": false,
     "tableResultSettingsMap": {},
     "title": ""
    }
   },
   "outputs": [],
   "source": [
    "display(df_raw.summary())"
   ]
  },
  {
   "cell_type": "code",
   "execution_count": 0,
   "metadata": {
    "application/vnd.databricks.v1+cell": {
     "cellMetadata": {
      "byteLimit": 2048000,
      "rowLimit": 10000
     },
     "inputWidgets": {},
     "nuid": "970e4340-3190-4161-81cd-dc7e4dc27346",
     "showTitle": false,
     "tableResultSettingsMap": {},
     "title": ""
    }
   },
   "outputs": [],
   "source": [
    "from pyspark.sql.functions import count, col\n",
    "duplicates = df_raw.groupBy(df.columns)\\\n",
    "    .agg(count(\"*\").alias(\"count\"))\\\n",
    "    .filter(col(\"count\") > 1)\n",
    "display(duplicates)"
   ]
  },
  {
   "cell_type": "code",
   "execution_count": 0,
   "metadata": {
    "application/vnd.databricks.v1+cell": {
     "cellMetadata": {
      "byteLimit": 2048000,
      "rowLimit": 10000
     },
     "inputWidgets": {},
     "nuid": "7ce5270f-6c10-4cc8-b8f0-de694f29c361",
     "showTitle": false,
     "tableResultSettingsMap": {
      "0": {
       "dataGridStateBlob": "{\"version\":1,\"tableState\":{\"columnPinning\":{\"left\":[\"#row_number#\"],\"right\":[]},\"columnSizing\":{},\"columnVisibility\":{}},\"settings\":{\"columns\":{}},\"syncTimestamp\":1753256207963}",
       "filterBlob": null,
       "queryPlanFiltersBlob": null,
       "tableResultIndex": 0
      }
     },
     "title": ""
    }
   },
   "outputs": [],
   "source": [
    "# 3. Basic cleaning\n",
    "df = df_raw.withColumn(\"Date\", to_date(col(\"Date\"))) \\\n",
    "           .dropna(subset=[\"Ticker\", \"Date\", \"Close\"]) \\\n",
    "           .filter(col(\"Close\") > 0)\n",
    "\n",
    "display(df)"
   ]
  },
  {
   "cell_type": "code",
   "execution_count": 0,
   "metadata": {
    "application/vnd.databricks.v1+cell": {
     "cellMetadata": {
      "byteLimit": 2048000,
      "rowLimit": 10000
     },
     "inputWidgets": {},
     "nuid": "f325b274-ac17-4798-8451-81c69cf00bb0",
     "showTitle": false,
     "tableResultSettingsMap": {
      "0": {
       "dataGridStateBlob": "{\"version\":1,\"tableState\":{\"columnPinning\":{\"left\":[\"#row_number#\"],\"right\":[]},\"columnSizing\":{},\"columnVisibility\":{}},\"settings\":{\"columns\":{}},\"syncTimestamp\":1753256218631}",
       "filterBlob": null,
       "queryPlanFiltersBlob": null,
       "tableResultIndex": 0
      }
     },
     "title": ""
    }
   },
   "outputs": [],
   "source": [
    "# 4. Create window spec to calculate rolling metrics per stock\n",
    "windowSpec = Window.partitionBy(\"Ticker\").orderBy(\"Date\")\n",
    "\n",
    "# 5. Add technical indicators\n",
    "df_transformed = df \\\n",
    "    .withColumn(\"Prev_Close\", lag(\"Close\").over(windowSpec)) \\\n",
    "    .withColumn(\"Daily_Return\", round(((col(\"Close\") - col(\"Prev_Close\")) / col(\"Prev_Close\")) * 100, 2)) \\\n",
    "    .withColumn(\"MA_7\", round(avg(\"Close\").over(windowSpec.rowsBetween(-6, 0)), 2)) \\\n",
    "    .withColumn(\"MA_14\", round(avg(\"Close\").over(windowSpec.rowsBetween(-13, 0)), 2)) \\\n",
    "    .withColumn(\"Volatility_7\", round(stddev(\"Close\").over(windowSpec.rowsBetween(-6, 0)), 2)) \\\n",
    "    .drop(\"Prev_Close\")\n",
    "df_transformed = df_transformed.dropna(subset=[\"Daily_Return\", \"MA_7\", \"MA_14\", \"Volatility_7\"])\n",
    "display(df_transformed)"
   ]
  },
  {
   "cell_type": "code",
   "execution_count": 0,
   "metadata": {
    "application/vnd.databricks.v1+cell": {
     "cellMetadata": {
      "byteLimit": 2048000,
      "rowLimit": 10000
     },
     "inputWidgets": {},
     "nuid": "e9a905cb-1523-4ca8-9dad-bd59c03b25b5",
     "showTitle": false,
     "tableResultSettingsMap": {},
     "title": ""
    }
   },
   "outputs": [],
   "source": [
    "# 6. Save cleaned data\n",
    "cleaned_path = \"s3://stock-analysis-yk/stockdatacleaned/\"  # or \"s3a://your-bucket/stock_data/cleaned\"\n",
    "df_transformed.write.format(\"delta\").option(\"header\",True).mode(\"overwrite\").save(cleaned_path)\n",
    "\n",
    "print(\"✅ Data cleaned and stored at:\", cleaned_path)\n",
    "#display(df_transformed)"
   ]
  },
  {
   "cell_type": "code",
   "execution_count": 0,
   "metadata": {
    "application/vnd.databricks.v1+cell": {
     "cellMetadata": {},
     "inputWidgets": {},
     "nuid": "4a831fe9-3000-4391-9f47-1bc25a51b11d",
     "showTitle": false,
     "tableResultSettingsMap": {},
     "title": ""
    }
   },
   "outputs": [],
   "source": []
  }
 ],
 "metadata": {
  "application/vnd.databricks.v1+notebook": {
   "computePreferences": null,
   "dashboards": [],
   "environmentMetadata": {
    "base_environment": "",
    "environment_version": "2"
   },
   "inputWidgetPreferences": null,
   "language": "python",
   "notebookMetadata": {
    "pythonIndentUnit": 4
   },
   "notebookName": "bronze_to_silver_transformation",
   "widgets": {}
  },
  "language_info": {
   "name": "python"
  }
 },
 "nbformat": 4,
 "nbformat_minor": 0
}
